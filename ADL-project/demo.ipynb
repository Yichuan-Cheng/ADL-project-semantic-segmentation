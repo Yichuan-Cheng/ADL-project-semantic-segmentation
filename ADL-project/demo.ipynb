{
 "cells": [
  {
   "cell_type": "code",
   "execution_count": 1,
   "id": "b8b8187a",
   "metadata": {},
   "outputs": [],
   "source": [
    "import torch\n",
    "from network import DualResNet,BasicBlock"
   ]
  },
  {
   "cell_type": "code",
   "execution_count": 2,
   "id": "6dd22f7f",
   "metadata": {},
   "outputs": [],
   "source": [
    "model = DualResNet(BasicBlock, [2, 2, 2, 2], num_classes=19, planes=32, spp_planes=128, head_planes=64)\n",
    "# model.eval()\n",
    "model=model.cuda()"
   ]
  },
  {
   "cell_type": "code",
   "execution_count": 3,
   "id": "0fada480",
   "metadata": {},
   "outputs": [
    {
     "name": "stdout",
     "output_type": "stream",
     "text": [
      "torch.Size([8, 128, 16, 32])\n"
     ]
    }
   ],
   "source": [
    "inp=torch.randn(8,3,1024,2048).cuda()\n",
    "out=model(inp)\n"
   ]
  },
  {
   "cell_type": "code",
   "execution_count": 4,
   "id": "6cdab7e4",
   "metadata": {},
   "outputs": [],
   "source": [
    "net=torch.nn.BatchNorm2d(3)"
   ]
  },
  {
   "cell_type": "code",
   "execution_count": 5,
   "id": "471f3244",
   "metadata": {},
   "outputs": [],
   "source": [
    "inp=torch.randn(3,2,1)"
   ]
  },
  {
   "cell_type": "code",
   "execution_count": null,
   "id": "051ce20c",
   "metadata": {},
   "outputs": [],
   "source": []
  }
 ],
 "metadata": {
  "kernelspec": {
   "display_name": "Python 3.8.13 ('py38')",
   "language": "python",
   "name": "python3"
  },
  "language_info": {
   "codemirror_mode": {
    "name": "ipython",
    "version": 3
   },
   "file_extension": ".py",
   "mimetype": "text/x-python",
   "name": "python",
   "nbconvert_exporter": "python",
   "pygments_lexer": "ipython3",
   "version": "3.8.13"
  },
  "vscode": {
   "interpreter": {
    "hash": "c86037aab4bdb2ef7f18591f9a3daf0fd1e1d422d3c1afa12331edcf94eacd5f"
   }
  }
 },
 "nbformat": 4,
 "nbformat_minor": 5
}
